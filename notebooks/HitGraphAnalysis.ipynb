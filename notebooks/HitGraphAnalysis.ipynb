{
 "cells": [
  {
   "cell_type": "markdown",
   "metadata": {},
   "source": [
    "# Analysis and visualization of hit-graph datasets\n",
    "\n",
    "The purpose of this notebook is to analyze the preprocessed hit-graph datasets."
   ]
  },
  {
   "cell_type": "code",
   "execution_count": 1,
   "metadata": {},
   "outputs": [],
   "source": [
    "import os\n",
    "\n",
    "import numpy as np\n",
    "import pandas as pd\n",
    "\n",
    "import matplotlib.pyplot as plt"
   ]
  },
  {
   "cell_type": "code",
   "execution_count": 2,
   "metadata": {},
   "outputs": [],
   "source": [
    "%matplotlib inline"
   ]
  },
  {
   "cell_type": "code",
   "execution_count": 51,
   "metadata": {},
   "outputs": [],
   "source": [
    "def process_file(filename):\n",
    "    with np.load(filename) as f:\n",
    "        n_nodes = f['X'].shape[0]\n",
    "        n_edges = f['y'].shape[0]\n",
    "        purity = f['y'].mean()\n",
    "    return dict(n_nodes=n_nodes, n_edges=n_edges, purity=purity)\n",
    "\n",
    "def process_dataset(data_dir, n_files=None):\n",
    "    files = [os.path.join(data_dir, f) for f in os.listdir(data_dir)\n",
    "             if not f.endswith('_ID.npz')]\n",
    "    print('%i total files' % len(files))\n",
    "    if n_files is not None:\n",
    "        files = files[:n_files]\n",
    "    return (pd.DataFrame.from_records([process_file(f) for f in files])\n",
    "            .assign(file=files))\n",
    "\n",
    "def summarize_dataset(data):\n",
    "    print('Samples:', data.shape[0])\n",
    "    print('Min nodes:', data.n_nodes.min())\n",
    "    print('Max nodes:', data.n_nodes.max())\n",
    "    print('Min edges:', data.n_edges.min())\n",
    "    print('Max edges:', data.n_edges.max())\n",
    "    print('Mean purity: %.4f' % data.purity.mean())"
   ]
  },
  {
   "cell_type": "markdown",
   "metadata": {},
   "source": [
    "## Available datasets "
   ]
  },
  {
   "cell_type": "code",
   "execution_count": 61,
   "metadata": {},
   "outputs": [
    {
     "name": "stdout",
     "output_type": "stream",
     "text": [
      "\u001b[0m\u001b[01;34mhitgraphs_000\u001b[0m/  \u001b[01;34mhitgraphs_big_000\u001b[0m/   \u001b[01;34mhitgraphs_med_000\u001b[0m/  \u001b[01;34mhitgraphs_med_003\u001b[0m/\n",
      "\u001b[01;34mhitgraphs_001\u001b[0m/  \u001b[01;34mhitgraphs_high_000\u001b[0m/  \u001b[01;34mhitgraphs_med_001\u001b[0m/  \u001b[01;34mhitgraphs_small_000\u001b[0m/\n",
      "\u001b[01;34mhitgraphs_002\u001b[0m/  \u001b[01;34mhitgraphs_high_001\u001b[0m/  \u001b[01;34mhitgraphs_med_002\u001b[0m/\n"
     ]
    }
   ],
   "source": [
    "ls /global/cscratch1/sd/sfarrell/heptrkx/data/"
   ]
  },
  {
   "cell_type": "markdown",
   "metadata": {},
   "source": [
    "## Small dataset"
   ]
  },
  {
   "cell_type": "code",
   "execution_count": 4,
   "metadata": {},
   "outputs": [],
   "source": [
    "data_dir = '/global/cscratch1/sd/sfarrell/heptrkx/data/hitgraphs_small_000'\n",
    "n_files = 1000"
   ]
  },
  {
   "cell_type": "code",
   "execution_count": 5,
   "metadata": {},
   "outputs": [
    {
     "name": "stdout",
     "output_type": "stream",
     "text": [
      "32768 total files\n",
      "CPU times: user 2.5 s, sys: 2.89 s, total: 5.39 s\n",
      "Wall time: 26.6 s\n"
     ]
    }
   ],
   "source": [
    "%%time\n",
    "\n",
    "data = process_dataset(data_dir, n_files)"
   ]
  },
  {
   "cell_type": "code",
   "execution_count": 6,
   "metadata": {},
   "outputs": [
    {
     "data": {
      "image/png": "[encoded data removed]",
      "text/plain": [
       "<Figure size 1080x288 with 3 Axes>"
      ]
     },
     "metadata": {
      "needs_background": "light"
     },
     "output_type": "display_data"
    },
    {
     "data": {
      "image/png": "[encoded data removed]",
      "text/plain": [
       "<Figure size 576x432 with 2 Axes>"
      ]
     },
     "metadata": {
      "needs_background": "light"
     },
     "output_type": "display_data"
    }
   ],
   "source": [
    "fig, (ax0, ax1, ax2) = plt.subplots(ncols=3, figsize=(15, 4))\n",
    "\n",
    "ax0.hist(data.n_nodes)\n",
    "ax0.set_xlabel('Nodes')\n",
    "ax1.hist(data.n_edges)\n",
    "ax1.set_xlabel('Edges')\n",
    "ax2.hist(data.purity)\n",
    "ax2.set_xlabel('Purity')\n",
    "plt.tight_layout()\n",
    "\n",
    "plt.figure(figsize=(8,6))\n",
    "plt.hist2d(data.n_nodes, data.n_edges, cmin=1)\n",
    "plt.xlabel('Number of graph nodes')\n",
    "plt.ylabel('Number of graph edges')\n",
    "plt.colorbar()\n",
    "\n",
    "summarize_dataset(data)"
   ]
  },
  {
   "cell_type": "markdown",
   "metadata": {},
   "source": [
    "## Medium dataset"
   ]
  },
  {
   "cell_type": "code",
   "execution_count": 7,
   "metadata": {},
   "outputs": [],
   "source": [
    "data_dir = '/global/cscratch1/sd/sfarrell/heptrkx/data/hitgraphs_med_002'\n",
    "n_files = 1000"
   ]
  },
  {
   "cell_type": "code",
   "execution_count": 8,
   "metadata": {},
   "outputs": [
    {
     "name": "stdout",
     "output_type": "stream",
     "text": [
      "65536 total files\n",
      "CPU times: user 2.27 s, sys: 2.88 s, total: 5.15 s\n",
      "Wall time: 30.1 s\n"
     ]
    }
   ],
   "source": [
    "%%time\n",
    "\n",
    "data = process_dataset(data_dir, n_files)"
   ]
  },
  {
   "cell_type": "code",
   "execution_count": 9,
   "metadata": {},
   "outputs": [],
   "source": [
    "fig, (ax0, ax1, ax2) = plt.subplots(ncols=3, figsize=(15, 4))\n",
    "\n",
    "ax0.hist(data.n_nodes)\n",
    "ax0.set_xlabel('Nodes')\n",
    "ax1.hist(data.n_edges)\n",
    "ax1.set_xlabel('Edges')\n",
    "ax2.hist(data.purity)\n",
    "ax2.set_xlabel('Purity')\n",
    "plt.tight_layout()\n",
    "\n",
    "plt.figure(figsize=(8,6))\n",
    "plt.hist2d(data.n_nodes, data.n_edges, cmin=1)\n",
    "plt.xlabel('Number of graph nodes')\n",
    "plt.ylabel('Number of graph edges')\n",
    "plt.colorbar()\n",
    "\n",
    "summarize_dataset(data)"
   ]
  },
  {
   "cell_type": "markdown",
   "metadata": {},
   "source": [
    "## Big dataset"
   ]
  },
  {
   "cell_type": "code",
   "execution_count": 10,
   "metadata": {},
   "outputs": [],
   "source": [
    "data_dir = '/global/cscratch1/sd/sfarrell/heptrkx/data/hitgraphs_big_000'\n",
    "n_files = 1000"
   ]
  },
  {
   "cell_type": "code",
   "execution_count": 11,
   "metadata": {},
   "outputs": [],
   "source": [
    "%%time\n",
    "\n",
    "data = process_dataset(data_dir, n_files)"
   ]
  },
  {
   "cell_type": "code",
   "execution_count": 11,
   "metadata": {},
   "outputs": [],
   "source": [
    "fig, (ax0, ax1, ax2) = plt.subplots(ncols=3, figsize=(15, 4))\n",
    "\n",
    "ax0.hist(data.n_nodes)\n",
    "ax0.set_xlabel('Nodes')\n",
    "ax1.hist(data.n_edges)\n",
    "ax1.set_xlabel('Edges')\n",
    "ax2.hist(data.purity)\n",
    "ax2.set_xlabel('Purity')\n",
    "plt.tight_layout()\n",
    "\n",
    "plt.figure(figsize=(8,6))\n",
    "plt.hist2d(data.n_nodes, data.n_edges, cmin=1)\n",
    "plt.xlabel('Number of graph nodes')\n",
    "plt.ylabel('Number of graph edges')\n",
    "plt.colorbar()\n",
    "\n",
    "summarize_dataset(data)"
   ]
  },
  {
   "cell_type": "markdown",
   "metadata": {},
   "source": [
    "## High-density dataset 000"
   ]
  },
  {
   "cell_type": "code",
   "execution_count": 65,
   "metadata": {},
   "outputs": [],
   "source": [
    "data_dir = '/global/cscratch1/sd/sfarrell/heptrkx/data/hitgraphs_high_000'\n",
    "n_files = None"
   ]
  },
  {
   "cell_type": "code",
   "execution_count": 66,
   "metadata": {},
   "outputs": [
    {
     "name": "stdout",
     "output_type": "stream",
     "text": [
      "65536 total files\n",
      "CPU times: user 3min 23s, sys: 4min 57s, total: 8min 20s\n",
      "Wall time: 46min 58s\n"
     ]
    }
   ],
   "source": [
    "%%time\n",
    "\n",
    "data = process_dataset(data_dir, n_files)"
   ]
  },
  {
   "cell_type": "code",
   "execution_count": 67,
   "metadata": {},
   "outputs": [
    {
     "name": "stdout",
     "output_type": "stream",
     "text": [
      "Samples: 65536\n",
      "Min nodes: 2455\n",
      "Max nodes: 6891\n",
      "Min edges: 6803\n",
      "Max edges: 52793\n",
      "Mean purity: 0.0721\n"
     ]
    },
    {
     "data": {
      "image/png": "[encoded data removed]",
      "text/plain": [
       "<Figure size 1080x288 with 3 Axes>"
      ]
     },
     "metadata": {
      "needs_background": "light"
     },
     "output_type": "display_data"
    },
    {
     "data": {
      "image/png": "[encoded data removed]",
      "text/plain": [
       "<Figure size 576x432 with 2 Axes>"
      ]
     },
     "metadata": {
      "needs_background": "light"
     },
     "output_type": "display_data"
    }
   ],
   "source": [
    "fig, (ax0, ax1, ax2) = plt.subplots(ncols=3, figsize=(15, 4))\n",
    "\n",
    "log=False\n",
    "ax0.hist(data.n_nodes, bins=50, log=log)\n",
    "ax0.set_xlabel('Nodes')\n",
    "ax1.hist(data.n_edges, bins=50, log=log)\n",
    "ax1.set_xlabel('Edges')\n",
    "ax2.hist(data.purity, bins=50)\n",
    "ax2.set_xlabel('Purity')\n",
    "plt.tight_layout()\n",
    "\n",
    "plt.figure(figsize=(8,6))\n",
    "plt.hist2d(data.n_nodes, data.n_edges, cmin=1)\n",
    "plt.xlabel('Number of graph nodes')\n",
    "plt.ylabel('Number of graph edges')\n",
    "plt.colorbar()\n",
    "\n",
    "summarize_dataset(data)"
   ]
  },
  {
   "cell_type": "markdown",
   "metadata": {},
   "source": [
    "### Remove the tails"
   ]
  },
  {
   "cell_type": "code",
   "execution_count": 68,
   "metadata": {},
   "outputs": [
    {
     "name": "stdout",
     "output_type": "stream",
     "text": [
      "Out of 65536 samples,\n",
      "  1834 have fewer than 12000 edges,\n",
      "  2523 have more than 30000 edges,\n",
      "  we keep 0.934 of data\n"
     ]
    }
   ],
   "source": [
    "min_edges, max_edges = 12000, 30000\n",
    "\n",
    "sel_data = data[(data.n_edges > min_edges) & (data.n_edges < max_edges)]\n",
    "\n",
    "print('Out of %i samples,' % data.shape[0])\n",
    "print('  %i have fewer than %i edges,' % ((data.n_edges < min_edges).sum(), min_edges))\n",
    "print('  %i have more than %i edges,' % ((data.n_edges > max_edges).sum(), max_edges))\n",
    "print('  we keep %.3f of data' % (sel_data.shape[0] / data.shape[0]))"
   ]
  },
  {
   "cell_type": "code",
   "execution_count": 69,
   "metadata": {},
   "outputs": [],
   "source": [
    "# Write out a dataset file\n",
    "dataset_file = 'dataset_high_000.csv'\n",
    "sel_data.to_csv(dataset_file)"
   ]
  },
  {
   "cell_type": "markdown",
   "metadata": {},
   "source": [
    "## High-density dataset 001"
   ]
  },
  {
   "cell_type": "code",
   "execution_count": 62,
   "metadata": {},
   "outputs": [],
   "source": [
    "data_dir = '/global/cscratch1/sd/sfarrell/heptrkx/data/hitgraphs_high_001'\n",
    "n_files = 1000"
   ]
  },
  {
   "cell_type": "code",
   "execution_count": 63,
   "metadata": {},
   "outputs": [
    {
     "name": "stdout",
     "output_type": "stream",
     "text": [
      "35400 total files\n",
      "CPU times: user 4.28 s, sys: 5.07 s, total: 9.35 s\n",
      "Wall time: 51 s\n"
     ]
    }
   ],
   "source": [
    "%%time\n",
    "\n",
    "data = process_dataset(data_dir, n_files)"
   ]
  },
  {
   "cell_type": "code",
   "execution_count": 64,
   "metadata": {},
   "outputs": [
    {
     "name": "stdout",
     "output_type": "stream",
     "text": [
      "Samples: 1000\n",
      "Min nodes: 5543\n",
      "Max nodes: 11421\n",
      "Min edges: 18272\n",
      "Max edges: 73531\n",
      "Mean purity: 0.0725\n"
     ]
    },
    {
     "data": {
      "image/png": "[encoded data removed]",
      "text/plain": [
       "<Figure size 1080x288 with 3 Axes>"
      ]
     },
     "metadata": {
      "needs_background": "light"
     },
     "output_type": "display_data"
    },
    {
     "data": {
      "image/png": "[encoded data removed]",
      "text/plain": [
       "<Figure size 576x432 with 2 Axes>"
      ]
     },
     "metadata": {
      "needs_background": "light"
     },
     "output_type": "display_data"
    }
   ],
   "source": [
    "fig, (ax0, ax1, ax2) = plt.subplots(ncols=3, figsize=(15, 4))\n",
    "\n",
    "ax0.hist(data.n_nodes, bins=50)\n",
    "ax0.set_xlabel('Nodes')\n",
    "ax1.hist(data.n_edges, bins=50)\n",
    "ax1.set_xlabel('Edges')\n",
    "ax2.hist(data.purity, bins=50)\n",
    "ax2.set_xlabel('Purity')\n",
    "plt.tight_layout()\n",
    "\n",
    "plt.figure(figsize=(8,6))\n",
    "plt.hist2d(data.n_nodes, data.n_edges, cmin=1)\n",
    "plt.xlabel('Number of graph nodes')\n",
    "plt.ylabel('Number of graph edges')\n",
    "plt.colorbar()\n",
    "\n",
    "summarize_dataset(data)"
   ]
  }
 ],
 "metadata": {
  "kernelspec": {
   "display_name": "Python 3",
   "language": "python",
   "name": "python3"
  },
  "language_info": {
   "codemirror_mode": {
    "name": "ipython",
    "version": 3
   },
   "file_extension": ".py",
   "mimetype": "text/x-python",
   "name": "python",
   "nbconvert_exporter": "python",
   "pygments_lexer": "ipython3",
   "version": "3.7.1"
  }
 },
 "nbformat": 4,
 "nbformat_minor": 4
}

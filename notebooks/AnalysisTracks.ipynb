{
 "cells": [
  {
   "cell_type": "markdown",
   "metadata": {},
   "source": [
    "# Analysing binned pseudorapidity"
   ]
  },
  {
   "cell_type": "code",
   "execution_count": 1,
   "metadata": {},
   "outputs": [],
   "source": [
    "# System imports\n",
    "import os\n",
    "import sys\n",
    "from pprint import pprint as pp\n",
    "from time import time as tt\n",
    "import pickle\n",
    "\n",
    "# External imports\n",
    "import matplotlib.pyplot as plt\n",
    "import matplotlib.colors\n",
    "import numpy as np\n",
    "\n",
    "from trackml.dataset import load_event\n",
    "from trackml.randomize import shuffle_hits\n",
    "from trackml.score import score_event\n",
    "\n",
    "import torch.nn as nn\n",
    "from torch.utils.data import DataLoader\n",
    "from torch.utils.data.distributed import DistributedSampler\n",
    "import torch_geometric\n",
    "from torch_geometric.data import Data\n",
    "\n",
    "# Limit CPU usage on Jupyter\n",
    "os.environ['OMP_NUM_THREADS'] = '4'\n",
    "\n",
    "# Pick up local packages\n",
    "sys.path.append('..')\n",
    "\n",
    "# Locals\n",
    "\n",
    "from prepareTracks import *\n",
    "from nb_utils import *\n",
    "from datasets import get_data_loaders\n",
    "from trainers import get_trainer\n",
    "import distributed"
   ]
  },
  {
   "cell_type": "markdown",
   "metadata": {},
   "source": [
    "## Initial investigation"
   ]
  },
  {
   "cell_type": "markdown",
   "metadata": {},
   "source": [
    "Set up the inital constraints and choose an event"
   ]
  },
  {
   "cell_type": "code",
   "execution_count": 2,
   "metadata": {},
   "outputs": [],
   "source": [
    "pt_min, n_phi_sections, phi_slope_max, z0_max = 1, 1, 0.001, 150"
   ]
  },
  {
   "cell_type": "code",
   "execution_count": 27,
   "metadata": {},
   "outputs": [],
   "source": [
    "event_prefix = 'event000001000'\n",
    "hits, particles, truth = load_event(os.path.join('/global/cscratch1/sd/danieltm/ExaTrkX/trackml/train_100_events/', event_prefix), \n",
    "                                    parts=['hits', 'particles', 'truth'])\n",
    "evtid = int(event_prefix[-9:])\n",
    "hits = hits.assign(evtid=evtid)"
   ]
  },
  {
   "cell_type": "markdown",
   "metadata": {},
   "source": [
    "Select end-cap volumes"
   ]
  },
  {
   "cell_type": "code",
   "execution_count": 28,
   "metadata": {},
   "outputs": [],
   "source": [
    "# This is ONLY the end-cap\n",
    "# vlids = [(9,2), (9,4), (9,6), (9,8), (9,10), (9,12), (9,14)]\n",
    "# These are the other front detectors\n",
    "#                     (14,2), (14,4), (14,6), (14,8), (14,10), (14,12),\n",
    "#                     (18,2), (18,4), (18,6), (18,8), (18,10), (18,12)]\n",
    "# These are the barrel volumes\n",
    "vlids = [(8,2), (8,4), (8,6), (8,8),\n",
    "             (13,2), (13,4), (13,6), (13,8),\n",
    "             (17,2), (17,4)]\n",
    "# eta_region = [0,0.2]\n",
    "\n",
    "n_det_layers = len(vlids)\n",
    "vlid_groups = hits.groupby(['volume_id', 'layer_id'])\n",
    "hits = pd.concat([vlid_groups.get_group(vlids[i]).assign(layer=i)\n",
    "                      for i in range(n_det_layers)])"
   ]
  },
  {
   "cell_type": "code",
   "execution_count": 29,
   "metadata": {},
   "outputs": [],
   "source": [
    "pt = np.sqrt(particles.px**2 + particles.py**2)\n",
    "particles = particles[pt > pt_min]\n",
    "particles = particles.join(pd.DataFrame(pt, columns=[\"pt\"]))"
   ]
  },
  {
   "cell_type": "code",
   "execution_count": 30,
   "metadata": {},
   "outputs": [],
   "source": [
    "truth = (truth[['hit_id', 'particle_id']]\n",
    "             .merge(particles[['particle_id', 'nhits', 'pt']], on='particle_id'))"
   ]
  },
  {
   "cell_type": "code",
   "execution_count": 31,
   "metadata": {},
   "outputs": [],
   "source": [
    "theta_hits = np.arccos(hits.z / (hits.x**2 + hits.y**2 + hits.z**2)**(0.5))\n",
    "eta_hits = -np.log(np.tan(theta_hits/2))\n",
    "phi_hits = np.arctan2(hits.y, hits.x)\n",
    "r_hits = np.sqrt(hits.x**2 + hits.y**2)"
   ]
  },
  {
   "cell_type": "code",
   "execution_count": 32,
   "metadata": {},
   "outputs": [],
   "source": [
    "# Create big hits + truth D.F.\n",
    "hits = (hits[['hit_id', 'x', 'y', 'z', 'layer', 'evtid']]\n",
    "            .assign(r=r_hits, phi=phi_hits, eta=eta_hits)\n",
    "            .merge(truth[['hit_id', 'particle_id', 'nhits', 'pt']], on='hit_id'))\n",
    "# Remove duplicated\n",
    "hits = hits.loc[\n",
    "        hits.groupby(['particle_id', 'layer'], as_index=False).r.idxmin()\n",
    "    ]\n",
    "hits = hits[hits['nhits'] > 2]"
   ]
  },
  {
   "cell_type": "code",
   "execution_count": 89,
   "metadata": {},
   "outputs": [],
   "source": [
    "hits = hits.assign(**{'{}'.format(k):v for k,v in zip([\"C\", \"D\",\"E\",\"F\",\"G\"], np.zeros(len(hits)))})"
   ]
  },
  {
   "cell_type": "code",
   "execution_count": 102,
   "metadata": {},
   "outputs": [],
   "source": [
    "for pid in pd.unique(hits['particle_id']):\n",
    "    hits.loc[hits.particle_id == pid, [\"C\", \"D\", \"E\", \"F\", \"G\"]] = get_track_parameters(hits[hits.particle_id == pid]['x'].to_numpy(), hits[hits.particle_id == pid]['y'].to_numpy(), hits[hits.particle_id == pid]['z'].to_numpy())"
   ]
  },
  {
   "cell_type": "markdown",
   "metadata": {},
   "source": [
    "Select certain eta region"
   ]
  },
  {
   "cell_type": "code",
   "execution_count": 9,
   "metadata": {},
   "outputs": [],
   "source": [
    "eta_region = [3.2,4]\n",
    "hits = hits[(hits.eta > eta_region[0]) & (hits.eta < eta_region[1])]\n",
    "# hits = hits.sort_values(by='eta')"
   ]
  },
  {
   "cell_type": "markdown",
   "metadata": {},
   "source": [
    "Organise into adjacent layers"
   ]
  },
  {
   "cell_type": "code",
   "execution_count": 10,
   "metadata": {},
   "outputs": [],
   "source": [
    "l = np.arange(n_det_layers)\n",
    "layer_pairs = np.stack([l[:-1], l[1:]], axis=1)"
   ]
  },
  {
   "cell_type": "code",
   "execution_count": 11,
   "metadata": {},
   "outputs": [],
   "source": [
    "feature_names = ['r', 'phi', 'z']\n",
    "feature_scale = np.array([1000., np.pi / n_phi_sections, 1000.])"
   ]
  },
  {
   "cell_type": "code",
   "execution_count": 12,
   "metadata": {},
   "outputs": [],
   "source": [
    "graph, IDs = construct_graph(hits, layer_pairs=layer_pairs,\n",
    "                              phi_slope_max=phi_slope_max, z0_max=z0_max,\n",
    "                              feature_names=feature_names,\n",
    "                              feature_scale=feature_scale)"
   ]
  },
  {
   "cell_type": "markdown",
   "metadata": {},
   "source": [
    "## Convert Adjacency Matrix and Visualise"
   ]
  },
  {
   "cell_type": "code",
   "execution_count": 13,
   "metadata": {},
   "outputs": [
    {
     "name": "stdout",
     "output_type": "stream",
     "text": [
      "634  hits and  524  edges\n"
     ]
    }
   ],
   "source": [
    "Ri_rows, Ri_cols = graph.Ri.nonzero()\n",
    "Ro_rows, Ro_cols = graph.Ro.nonzero()\n",
    "n_edges = Ri_cols.shape[0]\n",
    "edge_index = np.zeros((2, n_edges), dtype=int)\n",
    "edge_index[0, Ro_cols] = Ro_rows\n",
    "edge_index[1, Ri_cols] = Ri_rows\n",
    "print(len(graph.X), \" hits and \", edge_index.shape[1], \" edges\")"
   ]
  },
  {
   "cell_type": "code",
   "execution_count": 14,
   "metadata": {},
   "outputs": [],
   "source": [
    "X, Y, edges, labels = graph.X, graph.y, edge_index, graph.y\n",
    "X = X*feature_scale"
   ]
  },
  {
   "cell_type": "code",
   "execution_count": 15,
   "metadata": {},
   "outputs": [
    {
     "name": "stdout",
     "output_type": "stream",
     "text": [
      "0.8818340301513672\n"
     ]
    },
    {
     "data": {
      "image/png": "[encoded data removed]",
      "text/plain": [
       "<Figure size 288x288 with 1 Axes>"
      ]
     },
     "metadata": {
      "needs_background": "light"
     },
     "output_type": "display_data"
    }
   ],
   "source": [
    "tic = tt()\n",
    "draw_xy(X, edge_index, Y)\n",
    "print(tt()-tic)"
   ]
  },
  {
   "cell_type": "code",
   "execution_count": 16,
   "metadata": {},
   "outputs": [
    {
     "name": "stdout",
     "output_type": "stream",
     "text": [
      "0.9848120212554932\n"
     ]
    },
    {
     "data": {
      "image/png": "[encoded data removed]",
      "text/plain": [
       "<Figure size 288x288 with 1 Axes>"
      ]
     },
     "metadata": {
      "needs_background": "light"
     },
     "output_type": "display_data"
    }
   ],
   "source": [
    "tic = tt()\n",
    "draw_yz(X, edge_index, Y)\n",
    "print(tt()-tic)"
   ]
  },
  {
   "cell_type": "code",
   "execution_count": 17,
   "metadata": {},
   "outputs": [
    {
     "name": "stdout",
     "output_type": "stream",
     "text": [
      "0.8288261890411377\n"
     ]
    },
    {
     "data": {
      "image/png": "[encoded data removed]",
      "text/plain": [
       "<Figure size 288x288 with 1 Axes>"
      ]
     },
     "metadata": {
      "needs_background": "light"
     },
     "output_type": "display_data"
    }
   ],
   "source": [
    "tic = tt()\n",
    "draw_eta_phi(X, edge_index, Y)\n",
    "print(tt()-tic)"
   ]
  },
  {
   "cell_type": "code",
   "execution_count": 18,
   "metadata": {},
   "outputs": [
    {
     "name": "stdout",
     "output_type": "stream",
     "text": [
      "0.9489381313323975\n"
     ]
    },
    {
     "data": {
      "image/png": "[encoded data removed]",
      "text/plain": [
       "<Figure size 288x288 with 1 Axes>"
      ]
     },
     "metadata": {
      "needs_background": "light"
     },
     "output_type": "display_data"
    }
   ],
   "source": [
    "tic = tt()\n",
    "draw_eta_z(X, edge_index, Y)\n",
    "print(tt()-tic)"
   ]
  },
  {
   "cell_type": "code",
   "execution_count": 19,
   "metadata": {},
   "outputs": [
    {
     "name": "stdout",
     "output_type": "stream",
     "text": [
      "0.8636598587036133\n"
     ]
    },
    {
     "data": {
      "image/png": "[encoded data removed]",
      "text/plain": [
       "<Figure size 288x288 with 1 Axes>"
      ]
     },
     "metadata": {
      "needs_background": "light"
     },
     "output_type": "display_data"
    }
   ],
   "source": [
    "tic = tt()\n",
    "draw_eta_r(X, edge_index, Y)\n",
    "print(tt()-tic)"
   ]
  },
  {
   "cell_type": "code",
   "execution_count": 20,
   "metadata": {},
   "outputs": [],
   "source": [
    "sorted_edges, sorted_Y = sort_eta(X, edge_index, Y)"
   ]
  },
  {
   "cell_type": "code",
   "execution_count": 24,
   "metadata": {},
   "outputs": [
    {
     "data": {
      "text/plain": [
       "array([111, 112])"
      ]
     },
     "execution_count": 24,
     "metadata": {},
     "output_type": "execute_result"
    }
   ],
   "source": [
    "sorted_edges[:,slice]"
   ]
  },
  {
   "cell_type": "code",
   "execution_count": 22,
   "metadata": {},
   "outputs": [
    {
     "name": "stdout",
     "output_type": "stream",
     "text": [
      "0.0493006706237793\n"
     ]
    },
    {
     "data": {
      "image/png": "[encoded data removed]",
      "text/plain": [
       "<Figure size 288x288 with 1 Axes>"
      ]
     },
     "metadata": {
      "needs_background": "light"
     },
     "output_type": "display_data"
    }
   ],
   "source": [
    "tic = time.time()\n",
    "slice = 20\n",
    "tracks = track_maker(sorted_edges[:,:slice], sorted_Y[:slice])\n",
    "draw_eta_r(X, sorted_edges[:,:slice], sorted_Y[:slice])\n",
    "print(time.time() - tic)"
   ]
  },
  {
   "cell_type": "code",
   "execution_count": null,
   "metadata": {},
   "outputs": [],
   "source": []
  },
  {
   "cell_type": "code",
   "execution_count": 23,
   "metadata": {},
   "outputs": [
    {
     "data": {
      "text/plain": [
       "[[3, 2, 1, 0],\n",
       " [7, 6, 5, 4],\n",
       " [8, 9, 10, 11, 12, 13],\n",
       " [14, 15, 16, 17, 18, 19],\n",
       " []]"
      ]
     },
     "execution_count": 23,
     "metadata": {},
     "output_type": "execute_result"
    }
   ],
   "source": [
    "tracks"
   ]
  },
  {
   "cell_type": "markdown",
   "metadata": {},
   "source": [
    "# Preparing track counter data"
   ]
  },
  {
   "cell_type": "code",
   "execution_count": 12,
   "metadata": {},
   "outputs": [
    {
     "data": {
      "text/plain": [
       "277"
      ]
     },
     "execution_count": 12,
     "metadata": {},
     "output_type": "execute_result"
    }
   ],
   "source": [
    "len(hits.particle_id.unique())"
   ]
  },
  {
   "cell_type": "code",
   "execution_count": 32,
   "metadata": {
    "collapsed": true,
    "jupyter": {
     "outputs_hidden": true
    }
   },
   "outputs": [
    {
     "name": "stdout",
     "output_type": "stream",
     "text": [
      "(array([17]),)\n",
      "(array([11]),)\n",
      "(array([13]),)\n",
      "(array([15]),)\n",
      "(array([15]),)\n",
      "(array([21]),)\n",
      "(array([18]),)\n",
      "(array([28]),)\n",
      "(array([14]),)\n",
      "(array([13]),)\n",
      "(array([16]),)\n",
      "(array([9]),)\n",
      "(array([14]),)\n",
      "(array([8]),)\n",
      "(array([9]),)\n",
      "(array([11]),)\n",
      "(array([11]),)\n",
      "(array([15]),)\n",
      "(array([21]),)\n",
      "(array([29]),)\n",
      "(array([27]),)\n",
      "(array([19]),)\n",
      "(array([23]),)\n",
      "(array([17]),)\n",
      "(array([17]),)\n",
      "(array([22]),)\n",
      "(array([23]),)\n",
      "(array([10]),)\n",
      "(array([14]),)\n",
      "(array([11]),)\n",
      "(array([21]),)\n",
      "(array([20]),)\n",
      "(array([28]),)\n",
      "(array([19]),)\n",
      "(array([11]),)\n",
      "(array([16]),)\n",
      "(array([12]),)\n",
      "(array([25]),)\n",
      "(array([18]),)\n",
      "(array([17]),)\n",
      "(array([26]),)\n",
      "(array([29]),)\n",
      "(array([28]),)\n",
      "(array([28]),)\n",
      "(array([17]),)\n",
      "(array([13]),)\n",
      "(array([12]),)\n",
      "(array([22]),)\n",
      "(array([21]),)\n",
      "(array([15]),)\n",
      "(array([14]),)\n",
      "(array([15]),)\n",
      "(array([16]),)\n",
      "(array([11]),)\n",
      "(array([23]),)\n",
      "(array([23]),)\n",
      "(array([22]),)\n",
      "(array([25]),)\n",
      "(array([24]),)\n",
      "(array([27]),)\n",
      "(array([17]),)\n",
      "(array([17]),)\n",
      "(array([19]),)\n",
      "(array([13]),)\n",
      "(array([22]),)\n",
      "(array([17]),)\n",
      "(array([17]),)\n",
      "(array([20]),)\n",
      "(array([33]),)\n",
      "(array([25]),)\n",
      "(array([24]),)\n",
      "(array([29]),)\n",
      "(array([16]),)\n",
      "(array([13]),)\n",
      "(array([34]),)\n",
      "(array([26]),)\n",
      "(array([14]),)\n",
      "(array([12]),)\n",
      "(array([17]),)\n",
      "(array([13]),)\n",
      "(array([15]),)\n",
      "(array([16]),)\n",
      "(array([12]),)\n",
      "(array([11]),)\n",
      "(array([9]),)\n",
      "(array([12]),)\n",
      "(array([15]),)\n",
      "(array([12]),)\n",
      "(array([15]),)\n",
      "(array([17]),)\n"
     ]
    }
   ],
   "source": [
    "for i in range(10):\n",
    "    for j in range(9):\n",
    "        g = np.load('/global/cscratch1/sd/danieltm/ExaTrkX/counter_data/hitgraphs_small_000/event00000100'+str(i)+'_g00'+str(j)+'.npz')\n",
    "        print(np.where(g['y']))"
   ]
  },
  {
   "cell_type": "code",
   "execution_count": 21,
   "metadata": {
    "jupyter": {
     "source_hidden": true
    }
   },
   "outputs": [
    {
     "data": {
      "text/plain": [
       "array([0., 0., 0., 0., 0., 0., 0., 0., 0., 0., 0., 0., 0., 0., 0., 0., 0.,\n",
       "       0., 0., 0., 1.], dtype=float32)"
      ]
     },
     "execution_count": 21,
     "metadata": {},
     "output_type": "execute_result"
    }
   ],
   "source": [
    "g['y']"
   ]
  },
  {
   "cell_type": "code",
   "execution_count": null,
   "metadata": {},
   "outputs": [],
   "source": []
  },
  {
   "cell_type": "code",
   "execution_count": null,
   "metadata": {},
   "outputs": [],
   "source": []
  },
  {
   "cell_type": "code",
   "execution_count": null,
   "metadata": {},
   "outputs": [],
   "source": []
  },
  {
   "cell_type": "code",
   "execution_count": null,
   "metadata": {},
   "outputs": [],
   "source": []
  },
  {
   "cell_type": "code",
   "execution_count": null,
   "metadata": {},
   "outputs": [],
   "source": []
  },
  {
   "cell_type": "code",
   "execution_count": null,
   "metadata": {},
   "outputs": [],
   "source": []
  },
  {
   "cell_type": "markdown",
   "metadata": {},
   "source": [
    "# Training track counter"
   ]
  },
  {
   "cell_type": "code",
   "execution_count": null,
   "metadata": {},
   "outputs": [],
   "source": []
  },
  {
   "cell_type": "markdown",
   "metadata": {},
   "source": [
    "## Play area"
   ]
  },
  {
   "cell_type": "code",
   "execution_count": 3,
   "metadata": {},
   "outputs": [],
   "source": [
    "A = torch.tensor([0., 0., 0., 0., 0., 0., 0., 1., 0., 0., 0., 0., 0., 0., 0., 0., 0., 0.,\n",
    "        0., 0., 0., 0., 0., 0., 0., 0., 0., 0., 0., 0., 0., 0., 0., 0., 0., 0.,\n",
    "        0., 0., 0., 0., 0.])"
   ]
  },
  {
   "cell_type": "code",
   "execution_count": 6,
   "metadata": {},
   "outputs": [
    {
     "data": {
      "text/plain": [
       "7"
      ]
     },
     "execution_count": 6,
     "metadata": {},
     "output_type": "execute_result"
    }
   ],
   "source": [
    "int(np.where(A)[0])"
   ]
  },
  {
   "cell_type": "code",
   "execution_count": 16,
   "metadata": {},
   "outputs": [
    {
     "data": {
      "text/plain": [
       "torch.Size([1])"
      ]
     },
     "execution_count": 16,
     "metadata": {},
     "output_type": "execute_result"
    }
   ],
   "source": [
    "torch.argmax(A).unsqueeze(0).shape"
   ]
  },
  {
   "cell_type": "code",
   "execution_count": 18,
   "metadata": {},
   "outputs": [
    {
     "data": {
      "text/plain": [
       "torch.Size([1, 41])"
      ]
     },
     "execution_count": 18,
     "metadata": {},
     "output_type": "execute_result"
    }
   ],
   "source": [
    "A.unsqueeze(0).shape"
   ]
  },
  {
   "cell_type": "code",
   "execution_count": 28,
   "metadata": {},
   "outputs": [],
   "source": [
    "input = torch.randn(2, 3)\n",
    "output = nn.LogSoftmax(input)"
   ]
  },
  {
   "cell_type": "code",
   "execution_count": 29,
   "metadata": {},
   "outputs": [
    {
     "data": {
      "text/plain": [
       "LogSoftmax()"
      ]
     },
     "execution_count": 29,
     "metadata": {},
     "output_type": "execute_result"
    }
   ],
   "source": [
    "output"
   ]
  },
  {
   "cell_type": "code",
   "execution_count": 33,
   "metadata": {},
   "outputs": [],
   "source": [
    "e = torch.randn(33,1)\n",
    "h = torch.randn(1,8)"
   ]
  },
  {
   "cell_type": "code",
   "execution_count": 36,
   "metadata": {},
   "outputs": [
    {
     "data": {
      "text/plain": [
       "torch.Size([33, 8])"
      ]
     },
     "execution_count": 36,
     "metadata": {},
     "output_type": "execute_result"
    }
   ],
   "source": [
    "(e*h).shape"
   ]
  },
  {
   "cell_type": "code",
   "execution_count": 38,
   "metadata": {},
   "outputs": [
    {
     "name": "stdout",
     "output_type": "stream",
     "text": [
      "tensor([[-1.9664],\n",
      "        [ 0.0821],\n",
      "        [-0.3578],\n",
      "        [ 0.5644],\n",
      "        [ 0.7980],\n",
      "        [-0.4230],\n",
      "        [-1.0444],\n",
      "        [ 0.1337],\n",
      "        [-1.3731],\n",
      "        [ 0.6058],\n",
      "        [ 0.4436],\n",
      "        [-1.1990],\n",
      "        [-0.1769],\n",
      "        [-0.4191],\n",
      "        [-0.4110],\n",
      "        [ 0.5188],\n",
      "        [-0.6745],\n",
      "        [ 1.0826],\n",
      "        [-0.7400],\n",
      "        [-0.0405],\n",
      "        [ 0.9306],\n",
      "        [-0.3912],\n",
      "        [-1.2743],\n",
      "        [ 1.6382],\n",
      "        [-1.0518],\n",
      "        [-0.0929],\n",
      "        [ 0.8337],\n",
      "        [-1.5664],\n",
      "        [-0.6764],\n",
      "        [-0.9818],\n",
      "        [ 1.4599],\n",
      "        [ 0.4732],\n",
      "        [ 0.8265]]) tensor([[ 0.1322,  1.2162,  0.6082,  0.5639, -0.3008,  0.7964,  0.4999, -0.4438]]) tensor([[-0.2600, -2.3915, -1.1961, -1.1088,  0.5916, -1.5660, -0.9830,  0.8726],\n",
      "        [ 0.0109,  0.0999,  0.0500,  0.0463, -0.0247,  0.0654,  0.0411, -0.0364],\n",
      "        [-0.0473, -0.4352, -0.2176, -0.2018,  0.1076, -0.2850, -0.1789,  0.1588],\n",
      "        [ 0.0746,  0.6864,  0.3433,  0.3182, -0.1698,  0.4494,  0.2821, -0.2504],\n",
      "        [ 0.1055,  0.9706,  0.4854,  0.4500, -0.2401,  0.6356,  0.3989, -0.3542],\n",
      "        [-0.0559, -0.5144, -0.2573, -0.2385,  0.1273, -0.3369, -0.2115,  0.1877],\n",
      "        [-0.1381, -1.2702, -0.6353, -0.5889,  0.3142, -0.8318, -0.5221,  0.4635],\n",
      "        [ 0.0177,  0.1627,  0.0814,  0.0754, -0.0402,  0.1065,  0.0669, -0.0594],\n",
      "        [-0.1815, -1.6699, -0.8352, -0.7742,  0.4131, -1.0935, -0.6864,  0.6093],\n",
      "        [ 0.0801,  0.7368,  0.3685,  0.3416, -0.1823,  0.4825,  0.3028, -0.2688],\n",
      "        [ 0.0586,  0.5395,  0.2698,  0.2501, -0.1335,  0.3533,  0.2218, -0.1969],\n",
      "        [-0.1585, -1.4582, -0.7293, -0.6761,  0.3607, -0.9549, -0.5994,  0.5321],\n",
      "        [-0.0234, -0.2151, -0.1076, -0.0997,  0.0532, -0.1409, -0.0884,  0.0785],\n",
      "        [-0.0554, -0.5097, -0.2549, -0.2363,  0.1261, -0.3338, -0.2095,  0.1860],\n",
      "        [-0.0543, -0.4998, -0.2500, -0.2317,  0.1236, -0.3273, -0.2054,  0.1824],\n",
      "        [ 0.0686,  0.6310,  0.3156,  0.2926, -0.1561,  0.4132,  0.2594, -0.2302],\n",
      "        [-0.0892, -0.8203, -0.4103, -0.3803,  0.2029, -0.5372, -0.3372,  0.2993],\n",
      "        [ 0.1431,  1.3167,  0.6585,  0.6105, -0.3257,  0.8622,  0.5412, -0.4804],\n",
      "        [-0.0978, -0.9000, -0.4501, -0.4173,  0.2226, -0.5894, -0.3699,  0.3284],\n",
      "        [-0.0054, -0.0493, -0.0246, -0.0228,  0.0122, -0.0323, -0.0203,  0.0180],\n",
      "        [ 0.1230,  1.1318,  0.5660,  0.5247, -0.2800,  0.7411,  0.4652, -0.4130],\n",
      "        [-0.0517, -0.4758, -0.2380, -0.2206,  0.1177, -0.3116, -0.1956,  0.1736],\n",
      "        [-0.1685, -1.5498, -0.7751, -0.7185,  0.3834, -1.0148, -0.6370,  0.5655],\n",
      "        [ 0.2166,  1.9923,  0.9964,  0.9237, -0.4928,  1.3046,  0.8189, -0.7270],\n",
      "        [-0.1391, -1.2791, -0.6397, -0.5931,  0.3164, -0.8376, -0.5258,  0.4667],\n",
      "        [-0.0123, -0.1130, -0.0565, -0.0524,  0.0280, -0.0740, -0.0465,  0.0412],\n",
      "        [ 0.1102,  1.0140,  0.5071,  0.4701, -0.2508,  0.6640,  0.4168, -0.3700],\n",
      "        [-0.2071, -1.9050, -0.9528, -0.8832,  0.4712, -1.2475, -0.7830,  0.6951],\n",
      "        [-0.0894, -0.8226, -0.4114, -0.3814,  0.2035, -0.5387, -0.3381,  0.3002],\n",
      "        [-0.1298, -1.1940, -0.5972, -0.5536,  0.2954, -0.7819, -0.4908,  0.4357],\n",
      "        [ 0.1930,  1.7755,  0.8880,  0.8232, -0.4392,  1.1627,  0.7298, -0.6479],\n",
      "        [ 0.0626,  0.5755,  0.2878,  0.2668, -0.1424,  0.3769,  0.2366, -0.2100],\n",
      "        [ 0.1093,  1.0051,  0.5027,  0.4660, -0.2486,  0.6582,  0.4131, -0.3668]])\n"
     ]
    }
   ],
   "source": [
    "print(e,h,h*e)"
   ]
  },
  {
   "cell_type": "code",
   "execution_count": null,
   "metadata": {},
   "outputs": [],
   "source": []
  }
 ],
 "metadata": {
  "kernelspec": {
   "display_name": "pytorch-v1.1.0 [conda env:root] *",
   "language": "python",
   "name": "conda-root-pytorch-v1.1.0"
  },
  "language_info": {
   "codemirror_mode": {
    "name": "ipython",
    "version": 3
   },
   "file_extension": ".py",
   "mimetype": "text/x-python",
   "name": "python",
   "nbconvert_exporter": "python",
   "pygments_lexer": "ipython3",
   "version": "3.7.4"
  }
 },
 "nbformat": 4,
 "nbformat_minor": 4
}

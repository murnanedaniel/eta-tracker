{
 "cells": [
  {
   "cell_type": "markdown",
   "metadata": {},
   "source": [
    "# Hit graph construction\n",
    "\n",
    "This is a notebook for developing and analyzing the procedure for constructing hit graphs."
   ]
  },
  {
   "cell_type": "code",
   "execution_count": 1,
   "metadata": {},
   "outputs": [],
   "source": [
    "import os\n",
    "import sys\n",
    "\n",
    "# Customize sys path for user packages installed on top of Cori module pytorch-mpi/v0.4.1\n",
    "sys.path.append(\n",
    "    os.path.expandvars('$HOME/.local/cori/pytorchv0.4.1/lib/python3.6/site-packages')\n",
    ")\n",
    "\n",
    "# and for local code\n",
    "sys.path.append('..')"
   ]
  },
  {
   "cell_type": "code",
   "execution_count": 2,
   "metadata": {},
   "outputs": [],
   "source": [
    "import numpy as np\n",
    "import pandas as pd\n",
    "import matplotlib.pyplot as plt\n",
    "\n",
    "import trackml.dataset"
   ]
  },
  {
   "cell_type": "markdown",
   "metadata": {},
   "source": [
    "## Load the data"
   ]
  },
  {
   "cell_type": "code",
   "execution_count": 3,
   "metadata": {},
   "outputs": [],
   "source": [
    "# NERSC path\n",
    "data_dir = '/global/cscratch1/sd/sfarrell/trackml/train_all'\n",
    "\n",
    "# iBanks path\n",
    "#data_dir = '/bigdata/shared/TrackML/train_100_events'"
   ]
  },
  {
   "cell_type": "code",
   "execution_count": 4,
   "metadata": {},
   "outputs": [],
   "source": [
    "n_events = 10\n",
    "\n",
    "# Find the input files\n",
    "all_files = os.listdir(data_dir)\n",
    "suffix = '-hits.csv'\n",
    "file_prefixes = sorted(os.path.join(data_dir, f.replace(suffix, ''))\n",
    "                       for f in all_files if f.endswith(suffix))\n",
    "file_prefixes = file_prefixes[:n_events]"
   ]
  },
  {
   "cell_type": "code",
   "execution_count": 5,
   "metadata": {},
   "outputs": [],
   "source": [
    "# Start with just one event\n",
    "prefix = file_prefixes[1]\n",
    "evtid = int(prefix[-9:])\n",
    "\n",
    "hits, particles, truth = trackml.dataset.load_event(\n",
    "    prefix, parts=['hits', 'particles', 'truth'])"
   ]
  },
  {
   "cell_type": "code",
   "execution_count": 6,
   "metadata": {},
   "outputs": [
    {
     "data": {
      "text/html": [
       "<div>\n",
       "<style scoped>\n",
       "    .dataframe tbody tr th:only-of-type {\n",
       "        vertical-align: middle;\n",
       "    }\n",
       "\n",
       "    .dataframe tbody tr th {\n",
       "        vertical-align: top;\n",
       "    }\n",
       "\n",
       "    .dataframe thead th {\n",
       "        text-align: right;\n",
       "    }\n",
       "</style>\n",
       "<table border=\"1\" class=\"dataframe\">\n",
       "  <thead>\n",
       "    <tr style=\"text-align: right;\">\n",
       "      <th></th>\n",
       "      <th>hit_id</th>\n",
       "      <th>x</th>\n",
       "      <th>y</th>\n",
       "      <th>z</th>\n",
       "      <th>volume_id</th>\n",
       "      <th>layer_id</th>\n",
       "      <th>module_id</th>\n",
       "    </tr>\n",
       "  </thead>\n",
       "  <tbody>\n",
       "    <tr>\n",
       "      <th>0</th>\n",
       "      <td>1</td>\n",
       "      <td>-69.271698</td>\n",
       "      <td>-0.812497</td>\n",
       "      <td>-1502.5</td>\n",
       "      <td>7</td>\n",
       "      <td>2</td>\n",
       "      <td>1</td>\n",
       "    </tr>\n",
       "    <tr>\n",
       "      <th>1</th>\n",
       "      <td>2</td>\n",
       "      <td>-73.308998</td>\n",
       "      <td>-8.302350</td>\n",
       "      <td>-1502.5</td>\n",
       "      <td>7</td>\n",
       "      <td>2</td>\n",
       "      <td>1</td>\n",
       "    </tr>\n",
       "  </tbody>\n",
       "</table>\n",
       "</div>"
      ],
      "text/plain": [
       "   hit_id          x         y       z  volume_id  layer_id  module_id\n",
       "0       1 -69.271698 -0.812497 -1502.5          7         2          1\n",
       "1       2 -73.308998 -8.302350 -1502.5          7         2          1"
      ]
     },
     "execution_count": 6,
     "metadata": {},
     "output_type": "execute_result"
    }
   ],
   "source": [
    "hits.head(2)"
   ]
  },
  {
   "cell_type": "code",
   "execution_count": 7,
   "metadata": {},
   "outputs": [
    {
     "data": {
      "text/html": [
       "<div>\n",
       "<style scoped>\n",
       "    .dataframe tbody tr th:only-of-type {\n",
       "        vertical-align: middle;\n",
       "    }\n",
       "\n",
       "    .dataframe tbody tr th {\n",
       "        vertical-align: top;\n",
       "    }\n",
       "\n",
       "    .dataframe thead th {\n",
       "        text-align: right;\n",
       "    }\n",
       "</style>\n",
       "<table border=\"1\" class=\"dataframe\">\n",
       "  <thead>\n",
       "    <tr style=\"text-align: right;\">\n",
       "      <th></th>\n",
       "      <th>particle_id</th>\n",
       "      <th>vx</th>\n",
       "      <th>vy</th>\n",
       "      <th>vz</th>\n",
       "      <th>px</th>\n",
       "      <th>py</th>\n",
       "      <th>pz</th>\n",
       "      <th>q</th>\n",
       "      <th>nhits</th>\n",
       "    </tr>\n",
       "  </thead>\n",
       "  <tbody>\n",
       "    <tr>\n",
       "      <th>0</th>\n",
       "      <td>4503668346847232</td>\n",
       "      <td>-0.003686</td>\n",
       "      <td>0.013468</td>\n",
       "      <td>-6.5032</td>\n",
       "      <td>67.8190</td>\n",
       "      <td>-36.7019</td>\n",
       "      <td>-25.516199</td>\n",
       "      <td>-1</td>\n",
       "      <td>11</td>\n",
       "    </tr>\n",
       "    <tr>\n",
       "      <th>1</th>\n",
       "      <td>4503805785800704</td>\n",
       "      <td>-0.003686</td>\n",
       "      <td>0.013468</td>\n",
       "      <td>-6.5032</td>\n",
       "      <td>-3.0097</td>\n",
       "      <td>10.6623</td>\n",
       "      <td>37.389702</td>\n",
       "      <td>1</td>\n",
       "      <td>11</td>\n",
       "    </tr>\n",
       "  </tbody>\n",
       "</table>\n",
       "</div>"
      ],
      "text/plain": [
       "        particle_id        vx        vy      vz       px       py         pz  \\\n",
       "0  4503668346847232 -0.003686  0.013468 -6.5032  67.8190 -36.7019 -25.516199   \n",
       "1  4503805785800704 -0.003686  0.013468 -6.5032  -3.0097  10.6623  37.389702   \n",
       "\n",
       "   q  nhits  \n",
       "0 -1     11  \n",
       "1  1     11  "
      ]
     },
     "execution_count": 7,
     "metadata": {},
     "output_type": "execute_result"
    }
   ],
   "source": [
    "particles.head(2)"
   ]
  },
  {
   "cell_type": "code",
   "execution_count": 8,
   "metadata": {},
   "outputs": [
    {
     "data": {
      "text/html": [
       "<div>\n",
       "<style scoped>\n",
       "    .dataframe tbody tr th:only-of-type {\n",
       "        vertical-align: middle;\n",
       "    }\n",
       "\n",
       "    .dataframe tbody tr th {\n",
       "        vertical-align: top;\n",
       "    }\n",
       "\n",
       "    .dataframe thead th {\n",
       "        text-align: right;\n",
       "    }\n",
       "</style>\n",
       "<table border=\"1\" class=\"dataframe\">\n",
       "  <thead>\n",
       "    <tr style=\"text-align: right;\">\n",
       "      <th></th>\n",
       "      <th>hit_id</th>\n",
       "      <th>particle_id</th>\n",
       "      <th>tx</th>\n",
       "      <th>ty</th>\n",
       "      <th>tz</th>\n",
       "      <th>tpx</th>\n",
       "      <th>tpy</th>\n",
       "      <th>tpz</th>\n",
       "      <th>weight</th>\n",
       "    </tr>\n",
       "  </thead>\n",
       "  <tbody>\n",
       "    <tr>\n",
       "      <th>0</th>\n",
       "      <td>1</td>\n",
       "      <td>324262265547128832</td>\n",
       "      <td>-69.290901</td>\n",
       "      <td>-0.794919</td>\n",
       "      <td>-1502.5</td>\n",
       "      <td>-0.511341</td>\n",
       "      <td>0.019336</td>\n",
       "      <td>-11.06900</td>\n",
       "      <td>0.000009</td>\n",
       "    </tr>\n",
       "    <tr>\n",
       "      <th>1</th>\n",
       "      <td>2</td>\n",
       "      <td>45044036452483072</td>\n",
       "      <td>-73.306801</td>\n",
       "      <td>-8.292610</td>\n",
       "      <td>-1502.5</td>\n",
       "      <td>-0.304958</td>\n",
       "      <td>-0.054226</td>\n",
       "      <td>-6.36582</td>\n",
       "      <td>0.000009</td>\n",
       "    </tr>\n",
       "  </tbody>\n",
       "</table>\n",
       "</div>"
      ],
      "text/plain": [
       "   hit_id         particle_id         tx        ty      tz       tpx  \\\n",
       "0       1  324262265547128832 -69.290901 -0.794919 -1502.5 -0.511341   \n",
       "1       2   45044036452483072 -73.306801 -8.292610 -1502.5 -0.304958   \n",
       "\n",
       "        tpy       tpz    weight  \n",
       "0  0.019336 -11.06900  0.000009  \n",
       "1 -0.054226  -6.36582  0.000009  "
      ]
     },
     "execution_count": 8,
     "metadata": {},
     "output_type": "execute_result"
    }
   ],
   "source": [
    "truth.head(2)"
   ]
  },
  {
   "cell_type": "markdown",
   "metadata": {},
   "source": [
    "## Hit selection"
   ]
  },
  {
   "cell_type": "code",
   "execution_count": 9,
   "metadata": {},
   "outputs": [],
   "source": [
    "def select_hits(hits, truth, particles, pt_min=0):\n",
    "    # Barrel volume and layer ids\n",
    "    vlids = [(8,2), (8,4), (8,6), (8,8),\n",
    "             (13,2), (13,4), (13,6), (13,8),\n",
    "             (17,2), (17,4)]\n",
    "    n_det_layers = len(vlids)\n",
    "    # Select barrel layers and assign convenient layer number [0-9]\n",
    "    vlid_groups = hits.groupby(['volume_id', 'layer_id'])\n",
    "    hits = pd.concat([vlid_groups.get_group(vlids[i]).assign(layer=i)\n",
    "                      for i in range(n_det_layers)])\n",
    "    # Calculate particle transverse momentum\n",
    "    pt = np.sqrt(particles.px**2 + particles.py**2)\n",
    "    particles = particles.assign(pt=pt)\n",
    "    # True particle selection.\n",
    "    # Applies pt cut, removes all noise hits.\n",
    "    particles = particles[particles.pt > pt_min]\n",
    "    truth = (truth[['hit_id', 'particle_id']]\n",
    "             .merge(particles[['particle_id', 'pt']], on='particle_id'))\n",
    "    # Calculate derived hits variables\n",
    "    r = np.sqrt(hits.x**2 + hits.y**2)\n",
    "    phi = np.arctan2(hits.y, hits.x)\n",
    "    # Select the data columns we need\n",
    "    hits = (hits[['hit_id', 'z', 'layer']]\n",
    "            .assign(r=r, phi=phi)\n",
    "            .merge(truth[['hit_id', 'particle_id', 'pt']], on='hit_id'))\n",
    "    # Remove duplicate hits\n",
    "    hits = hits.loc[\n",
    "        hits.groupby(['particle_id', 'layer'], as_index=False).r.idxmin()\n",
    "    ]\n",
    "    return hits\n",
    "\n",
    "def calc_dphi(phi1, phi2):\n",
    "    \"\"\"Computes phi2-phi1 given in range [-pi,pi]\"\"\"\n",
    "    dphi = phi2 - phi1\n",
    "    dphi[dphi > np.pi] -= 2*np.pi\n",
    "    dphi[dphi < -np.pi] += 2*np.pi\n",
    "    return dphi"
   ]
  },
  {
   "cell_type": "code",
   "execution_count": 10,
   "metadata": {},
   "outputs": [],
   "source": [
    "pt_min = 0. # GeV"
   ]
  },
  {
   "cell_type": "code",
   "execution_count": 11,
   "metadata": {},
   "outputs": [],
   "source": [
    "hits = (select_hits(hits, truth, particles, pt_min=pt_min)\n",
    "        .assign(evtid=evtid)\n",
    "        .reset_index(drop=True))"
   ]
  },
  {
   "cell_type": "markdown",
   "metadata": {},
   "source": [
    "## Geometry ID pairs\n",
    "\n",
    "We use geometry IDs to select initial set of hit pair segments.\n",
    "For now we're starting with barrel hits only and can use the 0-9 layer number as the ID.\n",
    "We'll then use consecutive layer numbers as the criteria.\n",
    "\n",
    "This logic should be made extensible to non-barrel geometry and even module-level pairings."
   ]
  },
  {
   "cell_type": "code",
   "execution_count": 12,
   "metadata": {},
   "outputs": [],
   "source": [
    "gid_keys = 'layer'\n",
    "n_det_layers = 10\n",
    "gid_start = np.arange(0, n_det_layers-1)\n",
    "gid_end = np.arange(1, n_det_layers)"
   ]
  },
  {
   "cell_type": "markdown",
   "metadata": {},
   "source": [
    "## Segment construction\n",
    "\n",
    "Now for every geometry ID pair we construct hit-pair segments."
   ]
  },
  {
   "cell_type": "code",
   "execution_count": 13,
   "metadata": {},
   "outputs": [],
   "source": [
    "def get_segments(hits, gid_keys, gid_start, gid_end):\n",
    "\n",
    "    # Group hits by geometry ID\n",
    "    hit_gid_groups = hits.groupby(gid_keys)\n",
    "\n",
    "    segments = []\n",
    "\n",
    "    # Loop over geometry ID pairs\n",
    "    for gid1, gid2 in zip(gid_start, gid_end):\n",
    "        hits1 = hit_gid_groups.get_group(gid1)\n",
    "        hits2 = hit_gid_groups.get_group(gid2)\n",
    "\n",
    "        # Join all hit pairs together\n",
    "        hit_pairs = pd.merge(\n",
    "            hits1.reset_index(), hits2.reset_index(),\n",
    "            how='inner', on='evtid', suffixes=('_1', '_2'))\n",
    "\n",
    "        # Calculate coordinate differences\n",
    "        dphi = calc_dphi(hit_pairs.phi_1, hit_pairs.phi_2)\n",
    "        dz = hit_pairs.z_2 - hit_pairs.z_1\n",
    "        dr = hit_pairs.r_2 - hit_pairs.r_1\n",
    "        phi_slope = dphi / dr\n",
    "        z0 = hit_pairs.z_1 - hit_pairs.r_1 * dz / dr\n",
    "\n",
    "        # Identify the true pairs\n",
    "        y = (hit_pairs.particle_id_1 == hit_pairs.particle_id_2) & (hit_pairs.particle_id_1 != 0)\n",
    "\n",
    "        # Put the results in a new dataframe\n",
    "        segments.append(hit_pairs[['evtid', 'index_1', 'index_2', 'layer_1', 'layer_2']]\n",
    "                        .assign(dphi=dphi, dz=dz, dr=dr, y=y, phi_slope=phi_slope, z0=z0))\n",
    "\n",
    "    return pd.concat(segments, ignore_index=True)"
   ]
  },
  {
   "cell_type": "code",
   "execution_count": 14,
   "metadata": {},
   "outputs": [],
   "source": [
    "segments = get_segments(hits=hits, gid_keys=gid_keys, gid_start=gid_start, gid_end=gid_end)"
   ]
  },
  {
   "cell_type": "markdown",
   "metadata": {},
   "source": [
    "## Plot the full segment distributions"
   ]
  },
  {
   "cell_type": "code",
   "execution_count": 15,
   "metadata": {},
   "outputs": [
    {
     "data": {
      "image/png": "[encoded data removed]",
      "text/plain": [
       "<Figure size 1008x432 with 2 Axes>"
      ]
     },
     "metadata": {
      "needs_background": "light"
     },
     "output_type": "display_data"
    }
   ],
   "source": [
    "plt.figure(figsize=(14,6))\n",
    "\n",
    "true_segs = segments[segments.y]\n",
    "fake_segs = segments[segments.y == False]\n",
    "\n",
    "plt.subplot(121)\n",
    "binning=dict(bins=50, range=(-0.002, 0.002))\n",
    "plt.hist(fake_segs.phi_slope, label='fake', log=True, **binning)\n",
    "plt.hist(true_segs.phi_slope, label='true', **binning)\n",
    "plt.xlabel('$\\Delta \\phi / \\Delta r$ [rad/mm]')\n",
    "plt.legend(loc=0)\n",
    "\n",
    "plt.subplot(122)\n",
    "binning=dict(bins=50, range=(-500, 500))\n",
    "plt.hist(fake_segs.z0, label='fake', log=True, **binning)\n",
    "plt.hist(true_segs.z0, label='true', **binning)\n",
    "plt.xlabel('$z_0$ [mm]')\n",
    "plt.legend(loc=0)\n",
    "\n",
    "plt.tight_layout()"
   ]
  },
  {
   "cell_type": "markdown",
   "metadata": {},
   "source": [
    "## Segment selection"
   ]
  },
  {
   "cell_type": "code",
   "execution_count": 16,
   "metadata": {},
   "outputs": [],
   "source": [
    "def select_segments(segments, phi_slope_min, phi_slope_max, z0_max):\n",
    "    sel_mask = ((segments.phi_slope.abs() > phi_slope_min) &\n",
    "                (segments.phi_slope.abs() < phi_slope_max) &\n",
    "                (segments.z0.abs() < z0_max))\n",
    "    return segments.assign(selected=sel_mask)\n",
    "\n",
    "def segment_efficiency(segments):\n",
    "    return (segments.y & segments.selected).sum() / segments.y.sum()\n",
    "\n",
    "def segment_purity(segment):\n",
    "    return (segments.y & segments.selected).sum() / segments.selected.sum()"
   ]
  },
  {
   "cell_type": "code",
   "execution_count": 41,
   "metadata": {},
   "outputs": [],
   "source": [
    "# Choose some cuts\n",
    "phi_slope_min = 0.\n",
    "phi_slope_max = 0.0006\n",
    "z0_max = 100"
   ]
  },
  {
   "cell_type": "code",
   "execution_count": 42,
   "metadata": {},
   "outputs": [
    {
     "name": "stdout",
     "output_type": "stream",
     "text": [
      "Selection efficiency 0.4279 purity 0.0874\n"
     ]
    }
   ],
   "source": [
    "segments = select_segments(segments, phi_slope_min=phi_slope_min,\n",
    "                           phi_slope_max=phi_slope_max, z0_max=z0_max)\n",
    "\n",
    "print('Selection efficiency %.4f purity %.4f' % (segment_efficiency(segments), segment_purity(segments)))"
   ]
  },
  {
   "cell_type": "code",
   "execution_count": 43,
   "metadata": {},
   "outputs": [
    {
     "name": "stdout",
     "output_type": "stream",
     "text": [
      "Selection efficiency for high pt particles:\n",
      "  0.9442 for pt > 500 MeV\n",
      "  0.9938 for pt > 1.0 GeV\n"
     ]
    }
   ],
   "source": [
    "# What is the selection efficiency for high pt particle segments?\n",
    "true_segments = segments[segments.y]\n",
    "true_seg_pt = hits.loc[true_segments.index_1].pt.values\n",
    "true_segments = true_segments.assign(pt=true_seg_pt)\n",
    "\n",
    "print('Selection efficiency for high pt particles:')\n",
    "print('  %.4f for pt > 500 MeV' % segment_efficiency(true_segments[true_segments.pt > 0.5]))\n",
    "print('  %.4f for pt > 1.0 GeV' % segment_efficiency(true_segments[true_segments.pt > 1]))"
   ]
  },
  {
   "cell_type": "markdown",
   "metadata": {},
   "source": [
    "## Sample reweighting\n",
    "\n",
    "To deal with class imbalance, we'll want to reweight the segments in the training loss functions so that real and fake segments have nearly equal proportion."
   ]
  },
  {
   "cell_type": "raw",
   "metadata": {},
   "source": [
    "# Approximating the sample fractions [fake, real] found above\n",
    "sample_fracs = np.array([.8, .2])\n",
    "\n",
    "# Reweight each to 0.5\n",
    "sample_weights = 0.5 / sample_fracs\n",
    "\n",
    "sample_weights"
   ]
  }
 ],
 "metadata": {
  "kernelspec": {
   "display_name": "pytorch-v1.2.0-gpu",
   "language": "python",
   "name": "pytorch-v1.2.0-gpu"
  },
  "language_info": {
   "codemirror_mode": {
    "name": "ipython",
    "version": 3
   },
   "file_extension": ".py",
   "mimetype": "text/x-python",
   "name": "python",
   "nbconvert_exporter": "python",
   "pygments_lexer": "ipython3",
   "version": "3.6.9"
  }
 },
 "nbformat": 4,
 "nbformat_minor": 4
}
